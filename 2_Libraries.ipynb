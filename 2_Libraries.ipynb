{
 "cells": [
  {
   "cell_type": "markdown",
   "id": "2d803ed4-0ec0-49a2-a647-405d7b3a6f3e",
   "metadata": {},
   "source": [
    "# Scientific Libraries and Data Visualization in Python\n",
    "\n",
    "## 4. Scientific Libraries in Python\n",
    "\n",
    "Python offers powerful libraries for scientific computing, such as NumPy for numerical operations and Pandas for data manipulation (which is actually build on top of Numpy).\n",
    "\n",
    "### NumPy for Numerical Operations\n",
    "NumPy is the fundamental package for numerical computation in Python. It provides support for arrays and matrices, along with a collection of mathematical functions to operate on them.\n",
    "\n",
    "#### Example: Basic NumPy Operations"
   ]
  },
  {
   "cell_type": "code",
   "execution_count": null,
   "id": "2f5f6043-6eaf-428e-9bfc-c0c3f7df9a96",
   "metadata": {},
   "outputs": [],
   "source": [
    "import numpy as np\n",
    "\n",
    "# Creating a NumPy array\n",
    "data = np.array([1, 2, 3, 4, 5])\n",
    "\n",
    "# Array operations\n",
    "mean = np.mean(data)\n",
    "sum_data = np.sum(data)\n",
    "squared_data = np.square(data)\n",
    "\n",
    "print(f\"Mean: {mean}, Sum: {sum_data}, Squared: {squared_data}\")"
   ]
  },
  {
   "cell_type": "markdown",
   "id": "9387a525-8973-4752-8dd0-dc6151c66eed",
   "metadata": {},
   "source": [
    "### Pandas for Data Manipulation\n",
    "Pandas is a powerful library for data manipulation and analysis, providing data structures like Series (1D) and DataFrame (2D) that make it easy to work with structured data.\n",
    "\n",
    "#### Example: Basic Pandas Operations"
   ]
  },
  {
   "cell_type": "code",
   "execution_count": null,
   "id": "323df15a-66e9-4c79-a8fb-47239dbdeced",
   "metadata": {},
   "outputs": [],
   "source": [
    "import pandas as pd\n",
    "\n",
    "# Creating a Pandas DataFrame\n",
    "data = {\n",
    "    \"sample_id\": [101, 102, 103, 104],\n",
    "    \"temperature\": [23.5, 24.1, 22.8, 23.9],\n",
    "    \"measurement\": [\"viscosity\", \"density\", \"viscosity\", \"density\"],\n",
    "    \"value\": [12.3, 0.89, 13.1, 0.92]\n",
    "}\n",
    "\n",
    "df = pd.DataFrame(data)\n",
    "\n",
    "# Accessing columns and rows\n",
    "temperatures = df[\"temperature\"]\n",
    "first_row = df.iloc[0]\n",
    "\n",
    "# Basic operations\n",
    "mean_temperature = df[\"temperature\"].mean()\n",
    "\n",
    "# Display the dataframe\n",
    "df"
   ]
  },
  {
   "cell_type": "markdown",
   "id": "c88ccb6f-4558-4bc4-8784-ae35ef752baa",
   "metadata": {},
   "source": [
    "## How To Know These Functions Exist\n",
    "\n",
    "Jupyter Notebook provides built-in tools to help you explore the functionalities of Python libraries interactively. Two of the most useful features for this purpose are the question mark (`?`) for accessing documentation, and tab completion for discovering available methods and attributes.\n",
    "\n",
    "### Using the Question Mark (?)\n",
    "\n",
    "The question mark (`?`) can be used to access documentation for functions, methods, and modules directly within a Jupyter Notebook cell. This feature provides a quick way to get an overview of the functionality, parameters, and other useful information.\n",
    "\n",
    "#### Example: Accessing Documentation\n",
    "To view the documentation for Pandas' DataFrame, you can enter the following in a cell:"
   ]
  },
  {
   "cell_type": "code",
   "execution_count": null,
   "id": "f9bea5df-e995-45af-808a-6a6e3c714061",
   "metadata": {},
   "outputs": [],
   "source": [
    "import pandas as pd\n",
    "pd.DataFrame?"
   ]
  },
  {
   "cell_type": "markdown",
   "id": "448ec4df-dda2-4025-b1f7-f9c3ece635fa",
   "metadata": {},
   "source": [
    "### Using Tab Completion\n",
    "\n",
    "Tab completion is particularly useful for exploring the attributes and methods available in a library, such as different functions that can be applied to a data structure."
   ]
  },
  {
   "cell_type": "code",
   "execution_count": null,
   "id": "b3bf5cb9-daf5-4a97-9227-8aaca312c406",
   "metadata": {
    "scrolled": true
   },
   "outputs": [],
   "source": [
    "# Go to the end of this and hit tab to see what you can import data from:\n",
    "pd.read_"
   ]
  },
  {
   "cell_type": "markdown",
   "id": "d155a6db-3ae9-449d-a125-78e6bf196a57",
   "metadata": {},
   "source": [
    "## 5. Data Visualization\n",
    "\n",
    "Data visualization is a crucial aspect of data analysis. It helps in understanding the data better and communicating results effectively. Matplotlib is a popular library for creating visualizations in Python.\n",
    "\n",
    "### Matplotlib for Basic Plots\n",
    "Matplotlib is a versatile library for creating static, animated, and interactive visualizations.\n",
    "\n",
    "#### Example: Basic Plotting with Matplotlib"
   ]
  },
  {
   "cell_type": "code",
   "execution_count": null,
   "id": "c8351989-089d-4882-b82a-18036b416061",
   "metadata": {},
   "outputs": [],
   "source": [
    "import matplotlib.pyplot as plt\n",
    "\n",
    "# Line plot\n",
    "plt.figure(figsize=(8, 4))\n",
    "plt.scatter(df[\"temperature\"], df[\"value\"])\n",
    "plt.xlabel(\"Temperature\")\n",
    "plt.ylabel(\"Value\")\n",
    "plt.grid(True)\n",
    "plt.show()"
   ]
  },
  {
   "cell_type": "markdown",
   "id": "3d32f9b6-de27-4fe4-bb3f-061beb32ca79",
   "metadata": {},
   "source": [
    "#### Example: Lost of Plot Types!"
   ]
  },
  {
   "cell_type": "code",
   "execution_count": null,
   "id": "4ade3c29-55f4-4ec8-b2cd-da75dbd2005f",
   "metadata": {},
   "outputs": [],
   "source": [
    "import matplotlib.pyplot as plt\n",
    "import numpy as np\n",
    "\n",
    "# Data for plotting\n",
    "x = np.linspace(0, 10, 100)\n",
    "y = np.sin(x)\n",
    "categories = ['Apple', 'Banana', 'Cherry', 'Date', 'Elderberry']\n",
    "values = [5, 3, 4, 2, 6]\n",
    "sizes = [215, 130, 245, 210, 300]\n",
    "data_for_box = np.random.normal(0, 1, size=100)\n",
    "\n",
    "# Create a figure to hold all subplots\n",
    "fig, axs = plt.subplots(3, 2, figsize=(12, 12))  # 3x2 subplot grid\n",
    "\n",
    "# Line plot\n",
    "axs[0, 0].plot(x, y)\n",
    "axs[0, 0].set_title('Line Plot')\n",
    "axs[0, 0].set_xlabel('x')\n",
    "axs[0, 0].set_ylabel('sin(x)')\n",
    "\n",
    "# Scatter plot\n",
    "axs[0, 1].scatter(x, np.abs(y), c=y, cmap='viridis')\n",
    "axs[0, 1].set_title('Scatter Plot')\n",
    "axs[0, 1].set_xlabel('x')\n",
    "axs[0, 1].set_ylabel('abs(sin(x))')\n",
    "\n",
    "# Histogram\n",
    "axs[1, 0].hist(y, bins=10)\n",
    "axs[1, 0].set_title('Histogram')\n",
    "axs[1, 0].set_xlabel('sin(x)')\n",
    "axs[1, 0].set_ylabel('Frequency')\n",
    "\n",
    "# Bar chart\n",
    "axs[1, 1].bar(categories, values, color='indigo')\n",
    "axs[1, 1].set_title('Bar Chart')\n",
    "axs[1, 1].set_xlabel('Fruit')\n",
    "axs[1, 1].set_ylabel('Values')\n",
    "\n",
    "# Pie chart\n",
    "axs[2, 0].pie(sizes, labels=categories, autopct='%1.1f%%', startangle=90)\n",
    "axs[2, 0].set_aspect('equal')  # Equal aspect ratio ensures that pie is drawn as a circle.\n",
    "axs[2, 0].set_title('Pie Chart')\n",
    "\n",
    "# Box plot\n",
    "axs[2, 1].boxplot(data_for_box)\n",
    "axs[2, 1].set_title('Box Plot')\n",
    "axs[2, 1].set_xlabel('Data Set')\n",
    "axs[2, 1].set_ylabel('Values')\n",
    "\n",
    "# Adjust layout to prevent overlap\n",
    "plt.tight_layout()\n",
    "\n",
    "# Show plot\n",
    "plt.show()\n"
   ]
  },
  {
   "cell_type": "markdown",
   "id": "7d3f9e49-222e-45a2-bec6-4e8875e8d8ae",
   "metadata": {},
   "source": [
    "Next we'll move on to some TA specific stuff in [this notebook](3_TADataKit.ipynb)"
   ]
  }
 ],
 "metadata": {
  "kernelspec": {
   "display_name": "Python 3 (ipykernel)",
   "language": "python",
   "name": "python3"
  },
  "language_info": {
   "codemirror_mode": {
    "name": "ipython",
    "version": 3
   },
   "file_extension": ".py",
   "mimetype": "text/x-python",
   "name": "python",
   "nbconvert_exporter": "python",
   "pygments_lexer": "ipython3",
   "version": "3.9.18"
  }
 },
 "nbformat": 4,
 "nbformat_minor": 5
}
